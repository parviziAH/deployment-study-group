{
 "cells": [
  {
   "cell_type": "markdown",
   "metadata": {},
   "source": [
    "# Module 2: Building Custom Images\n",
    "\n",
    "Learn to create custom Docker images with Dockerfiles.\n",
    "\n",
    "## Exercise 4: Creating a Basic Dockerfile\n",
    "Build a simple web server using Nginx.\n",
    "\n",
    "**Steps:**\n",
    "1. Create a directory with an `index.html` file.\n",
    "2. Write a Dockerfile.\n",
    "3. Build and run the image.\n",
    "\n",
    "Example `Dockerfile` (save in `resources/module2/Dockerfile`):\n",
    "```dockerfile\n",
    "FROM nginx:latest\n",
    "COPY index.html /usr/share/nginx/html/\n",
    "```\n",
    "\n",
    "Example `index.html` (save in `resources/module2/index.html`):\n",
    "```html\n",
    "<h1>Hello, Docker!</h1>\n",
    "```"
   ]
  },
  {
   "cell_type": "code",
   "execution_count": null,
   "metadata": {},
   "outputs": [],
   "source": [
    "!docker build -t my-nginx ./resources/module2/"
   ]
  },
  {
   "cell_type": "code",
   "execution_count": null,
   "metadata": {},
   "outputs": [],
   "source": [
    "!docker run -d -p 80:80 my-nginx"
   ]
  },
  {
   "cell_type": "markdown",
   "metadata": {},
   "source": [
    "Visit `http://localhost` in your browser to see the page!"
   ]
  }
 ],
 "metadata": {
  "kernelspec": {
   "display_name": "Python 3",
   "language": "python",
   "name": "python3"
  }
 },
 "nbformat": 4,
 "nbformat_minor": 2
}