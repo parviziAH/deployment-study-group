{
 "cells": [
  {
   "cell_type": "markdown",
   "metadata": {},
   "source": [
    "# Module 1: Understanding the Basics\n",
    "\n",
    "This notebook walks you through the exercises for Module 1 of the Docker & Kubernetes Training Roadmap.\n",
    "\n",
    "## Exercise 1: Setting up a Basic Environment\n",
    "Install Docker and verify it’s working.\n",
    "\n",
    "**Steps:**\n",
    "1. Install Docker Desktop (Windows/Mac) or Docker Engine + Compose (Linux).\n",
    "2. Run the commands below to verify installation."
   ]
  },
  {
   "cell_type": "code",
   "execution_count": null,
   "metadata": {},
   "outputs": [],
   "source": [
    "!docker version"
   ]
  },
  {
   "cell_type": "code",
   "execution_count": null,
   "metadata": {},
   "outputs": [],
   "source": [
    "!docker ps"
   ]
  },
  {
   "cell_type": "markdown",
   "metadata": {},
   "source": [
    "## Exercise 2: Running a Simple Container\n",
    "Let’s run our first container!\n",
    "\n",
    "**Steps:**\n",
    "1. Run the `hello-world` container.\n",
    "2. Launch an interactive Ubuntu container and explore it."
   ]
  },
  {
   "cell_type": "code",
   "execution_count": null,
   "metadata": {},
   "outputs": [],
   "source": [
    "!docker run hello-world"
   ]
  },
  {
   "cell_type": "markdown",
   "metadata": {},
   "source": [
    "For the next command, run it in your terminal since Jupyter can’t handle interactive shells:\n",
    "```bash\n",
    "docker run -it ubuntu bash\n",
    "```\n",
    "Inside the container, try commands like `ls`, `whoami`, or `exit`."
   ]
  },
  {
   "cell_type": "markdown",
   "metadata": {},
   "source": [
    "## Exercise 3: Exploring Container Layers\n",
    "Understand how Docker images are built with layers.\n",
    "\n",
    "**Steps:**\n",
    "1. Inspect the `hello-world` container.\n",
    "2. Check its image history."
   ]
  },
  {
   "cell_type": "code",
   "execution_count": null,
   "metadata": {},
   "outputs": [],
   "source": [
    "!docker inspect hello-world"
   ]
  },
  {
   "cell_type": "code",
   "execution_count": null,
   "metadata": {},
   "outputs": [],
   "source": [
    "!docker image history hello-world"
   ]
  },
  {
   "cell_type": "markdown",
   "metadata": {},
   "source": [
    "**Discussion:**\n",
    "- What do the layers represent?\n",
    "- How does immutability benefit us?"
   ]
  }
 ],
 "metadata": {
  "kernelspec": {
   "display_name": "Python 3",
   "language": "python",
   "name": "python3"
  },
  "language_info": {
   "codemirror_mode": {
    "name": "ipython",
    "version": 3
   },
   "file_extension": ".py",
   "mimetype": "text/x-python",
   "name": "python",
   "nbconvert_exporter": "python",
   "pygments_lexer": "ipython3",
   "version": "3.x"
  }
 },
 "nbformat": 4,
 "nbformat_minor": 2
}